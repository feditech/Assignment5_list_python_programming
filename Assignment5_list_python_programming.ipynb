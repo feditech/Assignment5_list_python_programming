{
 "cells": [
  {
   "cell_type": "markdown",
   "id": "e9acdfe3-c589-42e2-80b7-22e0dd538adb",
   "metadata": {},
   "source": [
    "### 1. Write a program that accepts a list from user and print the alternate element of list."
   ]
  },
  {
   "cell_type": "code",
   "execution_count": 9,
   "id": "cdc95f56-b3a9-4dbb-9d49-aec50d8f5d84",
   "metadata": {},
   "outputs": [
    {
     "name": "stdin",
     "output_type": "stream",
     "text": [
      "Enter a list eg: 1,4,5,6  2,4,1,5,1\n"
     ]
    },
    {
     "name": "stdout",
     "output_type": "stream",
     "text": [
      "2 4 1 5 1 "
     ]
    }
   ],
   "source": [
    "userlist = input(\"Enter a list eg: 1,4,5,6 \").split(\",\")\n",
    "for i in userlist:\n",
    "    print(i, end=\" \")"
   ]
  },
  {
   "cell_type": "markdown",
   "id": "499f252b-ad62-427a-b81a-85dda7bf4103",
   "metadata": {},
   "source": [
    "### 2. Write a program that accepts a list from user. Your program should reverse the content of list. dont user reverse() method"
   ]
  },
  {
   "cell_type": "code",
   "execution_count": 14,
   "id": "720b43a2-b50d-407a-bf4a-1dbec81e63fa",
   "metadata": {},
   "outputs": [
    {
     "name": "stdin",
     "output_type": "stream",
     "text": [
      "Enter a list eg: 1,4,5,6  1,2,3,4\n"
     ]
    },
    {
     "name": "stdout",
     "output_type": "stream",
     "text": [
      "Enter a reversed list:  ['4', '3', '2', '1']\n"
     ]
    }
   ],
   "source": [
    "userlist = input(\"Enter a list eg: 1,4,5,6 \").split(\",\")\n",
    "reversedList=[]\n",
    "for i in range(len(userlist),0,-1):\n",
    "    reversedList.append(userlist[i-1])\n",
    "print(\"Enter a reversed list: \", reversedList)"
   ]
  },
  {
   "cell_type": "markdown",
   "id": "799c2c11-4523-42e8-9180-90383c50e77e",
   "metadata": {},
   "source": [
    "### 3. Find and display the largest number of a list without using built-in function max()."
   ]
  },
  {
   "cell_type": "code",
   "execution_count": 15,
   "id": "bdd5edf9-e613-4ef4-9481-6e81af7b4ef0",
   "metadata": {},
   "outputs": [
    {
     "name": "stdin",
     "output_type": "stream",
     "text": [
      "Enter a list eg: 1,4,5,6  22,33,11,22\n"
     ]
    },
    {
     "name": "stdout",
     "output_type": "stream",
     "text": [
      "LARGEST ====>33\n"
     ]
    }
   ],
   "source": [
    "userlist = input(\"Enter a list eg: 1,4,5,6 \").split(\",\")\n",
    "largest=userlist[0]\n",
    "for i in range(len(userlist)):\n",
    "    if userlist[i] > largest:\n",
    "        largest = userlist[i]\n",
    "print(f\"LARGEST ====>{largest}\")"
   ]
  },
  {
   "cell_type": "markdown",
   "id": "15291568-73d8-48f4-b411-056101f01272",
   "metadata": {},
   "source": [
    "### 4. Write a program that rotates the element of a list so that the element at the first index moves to the \n",
    "second index, the element in the second index moves to the third index, etc., and the element in the last\r\n",
    "index moves to the first index."
   ]
  },
  {
   "cell_type": "code",
   "execution_count": 5,
   "id": "aaaac8b1-d0f6-4311-ba59-e69022a820a0",
   "metadata": {},
   "outputs": [
    {
     "name": "stdin",
     "output_type": "stream",
     "text": [
      "Enter a list eg: 1,4,5,6  1,2,3\n",
      "Enter a list eg: 1,4,5,6  1,2,3\n"
     ]
    },
    {
     "name": "stdout",
     "output_type": "stream",
     "text": [
      "['3', '1', '2']\n"
     ]
    }
   ],
   "source": [
    "userlist = input(\"Enter a list eg: 1,4,5,6 \").split(\",\")\n",
    "dummylist= userlist.copy()\n",
    "for i in range(len(userlist),0,-1):\n",
    "    if i == 1:\n",
    "        dummylist[0]=userlist[len(userlist)-1]\n",
    "    else:\n",
    "        dummylist[i-1] = userlist[i-2]\n",
    "dummylist\n",
    "\n"
   ]
  },
  {
   "cell_type": "code",
   "execution_count": 6,
   "id": "d5093b90-c8ed-4092-8115-771ca1c22700",
   "metadata": {},
   "outputs": [
    {
     "name": "stdin",
     "output_type": "stream",
     "text": [
      "Enter a list eg: 1,4,5,6  1,2,3\n"
     ]
    },
    {
     "name": "stdout",
     "output_type": "stream",
     "text": [
      "['3', '1', '2']\n"
     ]
    }
   ],
   "source": [
    "userlist = input(\"Enter a list eg: 1,4,5,6 \").split(\",\")\n",
    "userlist.insert(0, userlist.pop())\n",
    "print(userlist)"
   ]
  },
  {
   "cell_type": "code",
   "execution_count": 9,
   "id": "8721242f-2428-407d-87b7-9f047ce06814",
   "metadata": {},
   "outputs": [
    {
     "name": "stdin",
     "output_type": "stream",
     "text": [
      "Enter a list eg: 1,4,5,6  1,2,3\n"
     ]
    },
    {
     "name": "stdout",
     "output_type": "stream",
     "text": [
      "['3', '1', '2']\n"
     ]
    }
   ],
   "source": [
    "userlist = input(\"Enter a list eg: 1,4,5,6 \").split(\",\")\n",
    "last_element = userlist[-1]\n",
    "for i in range(len(userlist) - 1, 0, -1):\n",
    "    userlist[i] = userlist[i - 1]\n",
    "userlist[0] = last_element\n",
    "print(userlist)"
   ]
  },
  {
   "cell_type": "code",
   "execution_count": 10,
   "id": "695fc6e9-89ef-47a5-b450-9cb919a44cde",
   "metadata": {},
   "outputs": [
    {
     "name": "stdin",
     "output_type": "stream",
     "text": [
      "Enter a list eg: 1,4,5,6  12,2,3\n"
     ]
    },
    {
     "name": "stdout",
     "output_type": "stream",
     "text": [
      "['3', '12', '2']\n"
     ]
    }
   ],
   "source": [
    "userlist = input(\"Enter a list eg: 1,4,5,6 \").split(\",\")\n",
    "userlist = [userlist[-1], *userlist[:-1]]\n",
    "print(userlist)"
   ]
  },
  {
   "cell_type": "markdown",
   "id": "08346365-926a-4dd0-a2ef-276d76a2281b",
   "metadata": {},
   "source": [
    "### 5. Write a program that input a string and ask user to delete a given word from a string."
   ]
  },
  {
   "cell_type": "code",
   "execution_count": 21,
   "id": "c4136527-c950-438d-8a59-91111113d502",
   "metadata": {},
   "outputs": [
    {
     "name": "stdin",
     "output_type": "stream",
     "text": [
      "ENTER A SENTENCE hamza is a nice guy\n",
      "Enter a word to delete nice\n"
     ]
    },
    {
     "name": "stdout",
     "output_type": "stream",
     "text": [
      "hamza is a guy\n"
     ]
    }
   ],
   "source": [
    "txt= input(\"ENTER A SENTENCE\").split(\" \")\n",
    "wordtodel = input(\"Enter a word to delete\")\n",
    "txt.remove(wordtodel)\n",
    "print(*txt)"
   ]
  },
  {
   "cell_type": "markdown",
   "id": "f5b36583-1b65-4c4c-a980-022a9e7a1811",
   "metadata": {},
   "source": [
    "### 6. Write a program that reads a string from the user containing a date in the form mm/dd/yyyy. It should print the date in the form of March 12, 2021. "
   ]
  },
  {
   "cell_type": "code",
   "execution_count": 36,
   "id": "1190affd-93ab-4e81-856a-cbd8c0b626df",
   "metadata": {},
   "outputs": [
    {
     "name": "stdin",
     "output_type": "stream",
     "text": [
      "ENTER data in mm/dd/yyyy format 1/22/3212\n"
     ]
    },
    {
     "name": "stdout",
     "output_type": "stream",
     "text": [
      "January 22, 3212  \n"
     ]
    }
   ],
   "source": [
    "txt= input(\"ENTER data in mm/dd/yyyy format\").split(\"/\")\n",
    "months = ['', 'January', 'February', 'March', 'April', 'May', 'June', 'July', 'August', 'September', 'October', 'November', 'December']\n",
    "print(f\"{months[int(txt[0])]} {txt[1]}, {txt[2]}  \") \n"
   ]
  },
  {
   "cell_type": "markdown",
   "id": "481b4f05-1289-4dc1-a6b4-f48146d0daea",
   "metadata": {},
   "source": [
    "### 7. Write a program with a function that accepts a string from keyboard and create a new string after \r\n",
    "converting character of each word capitalized. For instance, if the sentence is \"stop and smell the roses.\" \r\n",
    "the output should be \"Stop And Smell The Roses"
   ]
  },
  {
   "cell_type": "code",
   "execution_count": 40,
   "id": "19c99dd9-3677-42fc-ada2-24848872aad7",
   "metadata": {},
   "outputs": [
    {
     "name": "stdin",
     "output_type": "stream",
     "text": [
      "ENTER A SENTENCE stop and smell the roses\n"
     ]
    },
    {
     "name": "stdout",
     "output_type": "stream",
     "text": [
      "Stop And Smell The Roses \n"
     ]
    }
   ],
   "source": [
    "txt= input(\"ENTER A SENTENCE\").split(\" \")\n",
    "newstr=\"\"\n",
    "for word in txt:\n",
    "    newstr += word.capitalize() + \" \"\n",
    "print(newstr)"
   ]
  },
  {
   "cell_type": "markdown",
   "id": "023fbf1a-961c-42fa-8be6-8d33ca495081",
   "metadata": {},
   "source": [
    "### 8. Find the sum of each row of matrix of size m x n. For example for the following matrix output will be like this:\n",
    "- Sum of row 1 = 32 \r",
    "- \n",
    "Sum of row 2 = 3\n",
    "- \r\n",
    "Sum of row 3 = 63"
   ]
  },
  {
   "cell_type": "code",
   "execution_count": 44,
   "id": "031bf0f4-c7a2-4aed-8202-06e8661e5255",
   "metadata": {},
   "outputs": [
    {
     "name": "stdout",
     "output_type": "stream",
     "text": [
      "Sum of row 1 = 6\n",
      "Sum of row 2 = 15\n",
      "Sum of row 3 = 24\n"
     ]
    }
   ],
   "source": [
    "matrix =  [\n",
    "    [1,2,3],\n",
    "    [4,5,6],\n",
    "    [7,8,9]\n",
    "]\n",
    "for i in range(len(matrix)):\n",
    "    sum=0\n",
    "    for j in range(len(matrix[i])):\n",
    "        sum+=matrix[i][j]\n",
    "    print(f\"Sum of row {i+1} = {sum}\")"
   ]
  },
  {
   "cell_type": "markdown",
   "id": "99e613c6-dac7-4e54-a1cf-77a4d6766512",
   "metadata": {},
   "source": [
    "### 9. Write a program to add two matrices of size n x m. \n"
   ]
  },
  {
   "cell_type": "code",
   "execution_count": 47,
   "id": "e24292fd-9738-4f92-a6bc-199f8d0fbd88",
   "metadata": {},
   "outputs": [
    {
     "name": "stdout",
     "output_type": "stream",
     "text": [
      "[[2, 4, 6], [8, 10, 12], [14, 16, 18]]\n"
     ]
    }
   ],
   "source": [
    "matrix1 =  [\n",
    "    [1,2,3],\n",
    "    [4,5,6],\n",
    "    [7,8,9]\n",
    "]\n",
    "matrix2 =  [\n",
    "    [1,2,3],\n",
    "    [4,5,6],\n",
    "    [7,8,9]\n",
    "]\n",
    "newmatrix=[[1,2,3],\n",
    "    [4,5,6],\n",
    "    [7,8,9]]\n",
    "for i in range(len(matrix1)):\n",
    "    for j in range(len(matrix1[i])):\n",
    "       newmatrix[i][j] = matrix1[i][j] + matrix2[i][j]\n",
    "print(newmatrix)"
   ]
  },
  {
   "cell_type": "code",
   "execution_count": null,
   "id": "46c82110-14b4-422e-a1c7-2645604d7a4e",
   "metadata": {},
   "outputs": [],
   "source": []
  },
  {
   "cell_type": "code",
   "execution_count": null,
   "id": "8d5b4ba7-52a2-4a8d-b51f-2c7597ccc98a",
   "metadata": {},
   "outputs": [],
   "source": []
  },
  {
   "cell_type": "code",
   "execution_count": null,
   "id": "fe7da828-923c-4738-80fe-8174e2f8109f",
   "metadata": {},
   "outputs": [],
   "source": []
  },
  {
   "cell_type": "code",
   "execution_count": null,
   "id": "0720e192-14a8-4846-89b1-45e60c2e0b82",
   "metadata": {},
   "outputs": [],
   "source": []
  }
 ],
 "metadata": {
  "kernelspec": {
   "display_name": "Python 3 (ipykernel)",
   "language": "python",
   "name": "python3"
  },
  "language_info": {
   "codemirror_mode": {
    "name": "ipython",
    "version": 3
   },
   "file_extension": ".py",
   "mimetype": "text/x-python",
   "name": "python",
   "nbconvert_exporter": "python",
   "pygments_lexer": "ipython3",
   "version": "3.11.7"
  }
 },
 "nbformat": 4,
 "nbformat_minor": 5
}
